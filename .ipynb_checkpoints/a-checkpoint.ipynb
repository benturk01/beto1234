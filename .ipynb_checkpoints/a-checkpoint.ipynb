{
 "cells": [
  {
   "cell_type": "code",
   "execution_count": null,
   "metadata": {},
   "outputs": [
    {
     "ename": "",
     "evalue": "",
     "output_type": "error",
     "traceback": [
      "\u001b[1;31m'Python 3.11.3' ile hücreleri çalıştırmak için ipykernel paketi gerekir.\n",
      "\u001b[1;31mPython ortamına 'ipykernel' yüklemek için aşağıdaki komutu çalıştırın. \n",
      "\u001b[1;31mKomut: 'c:/Users/90530/AppData/Local/Programs/Python/Python311/python.exe -m pip install ipykernel -U --user --force-reinstall'"
     ]
    }
   ],
   "source": [
    "import pandas as pd\n",
    "from sklearn.model_selection import train_test_split\n",
    "from sklearn.preprocessing import LabelEncoder\n",
    "from sklearn.feature_extraction.text import TfidfVectorizer\n",
    "from sklearn.metrics import accuracy_score\n",
    "from tensorflow.keras.models import Sequential # type: ignore\n",
    "from tensorflow.keras.layers import Dense # type: ignore\n",
    "import joblib\n",
    "\n"
   ]
  },
  {
   "cell_type": "code",
   "execution_count": null,
   "metadata": {},
   "outputs": [
    {
     "ename": "",
     "evalue": "",
     "output_type": "error",
     "traceback": [
      "\u001b[1;31m'Python 3.11.3' ile hücreleri çalıştırmak için ipykernel paketi gerekir.\n",
      "\u001b[1;31mPython ortamına 'ipykernel' yüklemek için aşağıdaki komutu çalıştırın. \n",
      "\u001b[1;31mKomut: 'c:/Users/90530/AppData/Local/Programs/Python/Python311/python.exe -m pip install ipykernel -U --user --force-reinstall'"
     ]
    }
   ],
   "source": [
    "# CSV dosyasını yükleme\n",
    "df = pd.read_csv(\"Emotion_dataset_train.csv\")\n",
    "print(df)\n",
    "\n"
   ]
  },
  {
   "cell_type": "code",
   "execution_count": null,
   "metadata": {},
   "outputs": [
    {
     "ename": "",
     "evalue": "",
     "output_type": "error",
     "traceback": [
      "\u001b[1;31m'Python 3.11.3' ile hücreleri çalıştırmak için ipykernel paketi gerekir.\n",
      "\u001b[1;31mPython ortamına 'ipykernel' yüklemek için aşağıdaki komutu çalıştırın. \n",
      "\u001b[1;31mKomut: 'c:/Users/90530/AppData/Local/Programs/Python/Python311/python.exe -m pip install ipykernel -U --user --force-reinstall'"
     ]
    }
   ],
   "source": [
    "# Öznitelikler ve etiketleri ayırma\n",
    "X = df['Sentence']\n",
    "y = df['Label']"
   ]
  },
  {
   "cell_type": "code",
   "execution_count": null,
   "metadata": {},
   "outputs": [
    {
     "ename": "",
     "evalue": "",
     "output_type": "error",
     "traceback": [
      "\u001b[1;31m'Python 3.11.3' ile hücreleri çalıştırmak için ipykernel paketi gerekir.\n",
      "\u001b[1;31mPython ortamına 'ipykernel' yüklemek için aşağıdaki komutu çalıştırın. \n",
      "\u001b[1;31mKomut: 'c:/Users/90530/AppData/Local/Programs/Python/Python311/python.exe -m pip install ipykernel -U --user --force-reinstall'"
     ]
    }
   ],
   "source": [
    "unique_labels = df['Label'].unique()\n",
    "print(unique_labels)\n"
   ]
  },
  {
   "cell_type": "code",
   "execution_count": null,
   "metadata": {},
   "outputs": [
    {
     "ename": "",
     "evalue": "",
     "output_type": "error",
     "traceback": [
      "\u001b[1;31m'Python 3.11.3' ile hücreleri çalıştırmak için ipykernel paketi gerekir.\n",
      "\u001b[1;31mPython ortamına 'ipykernel' yüklemek için aşağıdaki komutu çalıştırın. \n",
      "\u001b[1;31mKomut: 'c:/Users/90530/AppData/Local/Programs/Python/Python311/python.exe -m pip install ipykernel -U --user --force-reinstall'"
     ]
    }
   ],
   "source": [
    "#verisetindeki verielrin sayisini grafikte gosterelim\n",
    "import matplotlib.pyplot as plt\n",
    "df['Label'].value_counts().plot(kind='bar')\n",
    "plt.show()\n"
   ]
  },
  {
   "cell_type": "code",
   "execution_count": null,
   "metadata": {},
   "outputs": [
    {
     "ename": "",
     "evalue": "",
     "output_type": "error",
     "traceback": [
      "\u001b[1;31m'Python 3.11.3' ile hücreleri çalıştırmak için ipykernel paketi gerekir.\n",
      "\u001b[1;31mPython ortamına 'ipykernel' yüklemek için aşağıdaki komutu çalıştırın. \n",
      "\u001b[1;31mKomut: 'c:/Users/90530/AppData/Local/Programs/Python/Python311/python.exe -m pip install ipykernel -U --user --force-reinstall'"
     ]
    }
   ],
   "source": [
    "# Veri setini eğitim ve test setlerine ayırma\n",
    "X_egitim, X_test, y_egitim, y_test = train_test_split(X, y, test_size=0.2, random_state=42)\n"
   ]
  },
  {
   "cell_type": "code",
   "execution_count": null,
   "metadata": {},
   "outputs": [
    {
     "ename": "",
     "evalue": "",
     "output_type": "error",
     "traceback": [
      "\u001b[1;31m'Python 3.11.3' ile hücreleri çalıştırmak için ipykernel paketi gerekir.\n",
      "\u001b[1;31mPython ortamına 'ipykernel' yüklemek için aşağıdaki komutu çalıştırın. \n",
      "\u001b[1;31mKomut: 'c:/Users/90530/AppData/Local/Programs/Python/Python311/python.exe -m pip install ipykernel -U --user --force-reinstall'"
     ]
    }
   ],
   "source": [
    "# Metin verilerini sayısal vektörlere dönüştürme\n",
    "tfidf_vectorizer = TfidfVectorizer(max_features=1000)\n",
    "X_egitim_tfidf = tfidf_vectorizer.fit_transform(X_egitim)\n",
    "X_test_tfidf = tfidf_vectorizer.transform(X_test)\n"
   ]
  },
  {
   "cell_type": "code",
   "execution_count": null,
   "metadata": {},
   "outputs": [
    {
     "ename": "",
     "evalue": "",
     "output_type": "error",
     "traceback": [
      "\u001b[1;31m'Python 3.11.3' ile hücreleri çalıştırmak için ipykernel paketi gerekir.\n",
      "\u001b[1;31mPython ortamına 'ipykernel' yüklemek için aşağıdaki komutu çalıştırın. \n",
      "\u001b[1;31mKomut: 'c:/Users/90530/AppData/Local/Programs/Python/Python311/python.exe -m pip install ipykernel -U --user --force-reinstall'"
     ]
    }
   ],
   "source": [
    "# Etiketleri sayısal değerlere dönüştürme\n",
    "label_encoder = LabelEncoder()\n",
    "y_egitim_encoded = label_encoder.fit_transform(y_egitim)\n",
    "y_test_encoded = label_encoder.transform(y_test)"
   ]
  },
  {
   "cell_type": "code",
   "execution_count": null,
   "metadata": {},
   "outputs": [
    {
     "ename": "",
     "evalue": "",
     "output_type": "error",
     "traceback": [
      "\u001b[1;31m'Python 3.11.3' ile hücreleri çalıştırmak için ipykernel paketi gerekir.\n",
      "\u001b[1;31mPython ortamına 'ipykernel' yüklemek için aşağıdaki komutu çalıştırın. \n",
      "\u001b[1;31mKomut: 'c:/Users/90530/AppData/Local/Programs/Python/Python311/python.exe -m pip install ipykernel -U --user --force-reinstall'"
     ]
    }
   ],
   "source": [
    "# Sinir ağı modeli oluşturma\n",
    "model = Sequential()\n",
    "model.add(Dense(128, activation='relu', input_shape=(X_egitim_tfidf.shape[1],)))\n",
    "model.add(Dense(32, activation='relu'))\n",
    "model.add(Dense(64, activation='relu'))\n",
    "model.add(Dense(32, activation='sigmoid'))\n",
    "model.add(Dense(64, activation='sigmoid'))\n",
    "model.add(Dense(32, activation='relu'))\n",
    "model.add(Dense(len(label_encoder.classes_), activation='softmax'))\n",
    "\n"
   ]
  },
  {
   "cell_type": "code",
   "execution_count": null,
   "metadata": {},
   "outputs": [
    {
     "ename": "",
     "evalue": "",
     "output_type": "error",
     "traceback": [
      "\u001b[1;31m'Python 3.11.3' ile hücreleri çalıştırmak için ipykernel paketi gerekir.\n",
      "\u001b[1;31mPython ortamına 'ipykernel' yüklemek için aşağıdaki komutu çalıştırın. \n",
      "\u001b[1;31mKomut: 'c:/Users/90530/AppData/Local/Programs/Python/Python311/python.exe -m pip install ipykernel -U --user --force-reinstall'"
     ]
    }
   ],
   "source": [
    "# Modeli derleme\n",
    "model.compile(optimizer='adam', loss='sparse_categorical_crossentropy', metrics=['accuracy'])\n"
   ]
  },
  {
   "cell_type": "code",
   "execution_count": null,
   "metadata": {},
   "outputs": [
    {
     "ename": "",
     "evalue": "",
     "output_type": "error",
     "traceback": [
      "\u001b[1;31m'Python 3.11.3' ile hücreleri çalıştırmak için ipykernel paketi gerekir.\n",
      "\u001b[1;31mPython ortamına 'ipykernel' yüklemek için aşağıdaki komutu çalıştırın. \n",
      "\u001b[1;31mKomut: 'c:/Users/90530/AppData/Local/Programs/Python/Python311/python.exe -m pip install ipykernel -U --user --force-reinstall'"
     ]
    }
   ],
   "source": [
    "# Modeli eğitme\n",
    "model.fit(X_egitim_tfidf, y_egitim_encoded, epochs=5, batch_size=64, validation_split=0.1)"
   ]
  },
  {
   "cell_type": "code",
   "execution_count": null,
   "metadata": {},
   "outputs": [
    {
     "ename": "",
     "evalue": "",
     "output_type": "error",
     "traceback": [
      "\u001b[1;31m'Python 3.11.3' ile hücreleri çalıştırmak için ipykernel paketi gerekir.\n",
      "\u001b[1;31mPython ortamına 'ipykernel' yüklemek için aşağıdaki komutu çalıştırın. \n",
      "\u001b[1;31mKomut: 'c:/Users/90530/AppData/Local/Programs/Python/Python311/python.exe -m pip install ipykernel -U --user --force-reinstall'"
     ]
    }
   ],
   "source": [
    "# Modelin performansını değerlendirme\n",
    "loss, accuracy = model.evaluate(X_test_tfidf, y_test_encoded)\n",
    "print(\"Modelin doğruluk skoru:\", accuracy)\n"
   ]
  },
  {
   "cell_type": "code",
   "execution_count": null,
   "metadata": {},
   "outputs": [
    {
     "ename": "",
     "evalue": "",
     "output_type": "error",
     "traceback": [
      "\u001b[1;31m'Python 3.11.3' ile hücreleri çalıştırmak için ipykernel paketi gerekir.\n",
      "\u001b[1;31mPython ortamına 'ipykernel' yüklemek için aşağıdaki komutu çalıştırın. \n",
      "\u001b[1;31mKomut: 'c:/Users/90530/AppData/Local/Programs/Python/Python311/python.exe -m pip install ipykernel -U --user --force-reinstall'"
     ]
    }
   ],
   "source": [
    "# Modeli kaydetme\n",
    "model.save(\"model.h5\")"
   ]
  },
  {
   "cell_type": "code",
   "execution_count": null,
   "metadata": {},
   "outputs": [
    {
     "ename": "",
     "evalue": "",
     "output_type": "error",
     "traceback": [
      "\u001b[1;31m'Python 3.11.3' ile hücreleri çalıştırmak için ipykernel paketi gerekir.\n",
      "\u001b[1;31mPython ortamına 'ipykernel' yüklemek için aşağıdaki komutu çalıştırın. \n",
      "\u001b[1;31mKomut: 'c:/Users/90530/AppData/Local/Programs/Python/Python311/python.exe -m pip install ipykernel -U --user --force-reinstall'"
     ]
    }
   ],
   "source": [
    "# model uzerinde tahmin yapma\n",
    "y_tahmin = model.predict(X_test_tfidf)\n",
    "y_tahmin = y_tahmin.argmax(axis=-1)\n",
    "y_tahmin = label_encoder.inverse_transform(y_tahmin)\n",
    "print(y_tahmin)\n",
    "print(y_test)\n",
    "print(accuracy_score(y_test, y_tahmin))\n"
   ]
  },
  {
   "cell_type": "code",
   "execution_count": null,
   "metadata": {},
   "outputs": [
    {
     "ename": "",
     "evalue": "",
     "output_type": "error",
     "traceback": [
      "\u001b[1;31m'Python 3.11.3' ile hücreleri çalıştırmak için ipykernel paketi gerekir.\n",
      "\u001b[1;31mPython ortamına 'ipykernel' yüklemek için aşağıdaki komutu çalıştırın. \n",
      "\u001b[1;31mKomut: 'c:/Users/90530/AppData/Local/Programs/Python/Python311/python.exe -m pip install ipykernel -U --user --force-reinstall'"
     ]
    }
   ],
   "source": [
    "#verecegim cumlenin duygusunu tahmin edelim. \n",
    "cumle = \"Konsere gitmek istiyorum\"\n",
    "cumle_tfidf = tfidf_vectorizer.transform([cumle])\n",
    "tahmin = model.predict(cumle_tfidf)\n",
    "tahmin = tahmin.argmax(axis=-1)\n",
    "tahmin = label_encoder.inverse_transform(tahmin)\n",
    "print(tahmin)\n",
    "\n",
    "\n"
   ]
  },
  {
   "cell_type": "code",
   "execution_count": null,
   "metadata": {},
   "outputs": [
    {
     "ename": "",
     "evalue": "",
     "output_type": "error",
     "traceback": [
      "\u001b[1;31m'Python 3.11.3' ile hücreleri çalıştırmak için ipykernel paketi gerekir.\n",
      "\u001b[1;31mPython ortamına 'ipykernel' yüklemek için aşağıdaki komutu çalıştırın. \n",
      "\u001b[1;31mKomut: 'c:/Users/90530/AppData/Local/Programs/Python/Python311/python.exe -m pip install ipykernel -U --user --force-reinstall'"
     ]
    }
   ],
   "source": [
    "import joblib\n",
    "\n",
    "# TF-IDF vektörleştiriciyi kaydet\n",
    "joblib.dump(tfidf_vectorizer, \"tfidf_vectorizer.pkl\")\n",
    "\n",
    "# Etiket kodlayıcıyı kaydet\n",
    "joblib.dump(label_encoder, \"label_encoder.pkl\")\n"
   ]
  }
 ],
 "metadata": {
  "kernelspec": {
   "display_name": "base",
   "language": "python",
   "name": "python3"
  },
  "language_info": {
   "codemirror_mode": {
    "name": "ipython",
    "version": 3
   },
   "file_extension": ".py",
   "mimetype": "text/x-python",
   "name": "python",
   "nbconvert_exporter": "python",
   "pygments_lexer": "ipython3",
   "version": "3.11.3"
  }
 },
 "nbformat": 4,
 "nbformat_minor": 2
}
