{
 "cells": [
  {
   "cell_type": "code",
   "execution_count": 1,
   "metadata": {},
   "outputs": [],
   "source": [
    "import pandas as pd\n",
    "from sklearn.model_selection import train_test_split\n",
    "from sklearn.preprocessing import LabelEncoder\n",
    "from sklearn.feature_extraction.text import TfidfVectorizer\n",
    "from sklearn.metrics import accuracy_score\n",
    "from tensorflow.keras.models import Sequential # type: ignore\n",
    "from tensorflow.keras.layers import Dense # type: ignore\n",
    "import joblib\n",
    "\n"
   ]
  },
  {
   "cell_type": "code",
   "execution_count": 2,
   "metadata": {},
   "outputs": [
    {
     "name": "stdout",
     "output_type": "stream",
     "text": [
      "      Unnamed: 0                                           Sentence    Label\n",
      "0              0  Allah aşkına bi fırça neden 250 tl neden yani ...   kızgın\n",
      "1              1  Muavin bir şey içip içmediğimi sormak için ben...  surpriz\n",
      "2              2  Herkese güzel günler öpüyorum sizler tivitır a...    mutlu\n",
      "3              3  Ya şu sevgililerin birbirine şifre verme olayı...   kızgın\n",
      "4              4  Almanya'da 'yok artık' dedirten olay! Nereye p...  surpriz\n",
      "...          ...                                                ...      ...\n",
      "3895        3895  Onu görünce ben de ürktüm bir başta sonra yeni...    korku\n",
      "3896        3896  Gece sabaha kadar 50 tane kabus gördüm nasıl b...    korku\n",
      "3897        3897  Sustum senden sonra, sessize aldım dilimi. Ne ...    korku\n",
      "3898        3898  mutsuzum çünkü ders çalışamıyorum odaklanamıyo...    üzgün\n",
      "3899        3899  Metroda bile çeken telefon evde çekmiyor. İnsa...  surpriz\n",
      "\n",
      "[3900 rows x 3 columns]\n"
     ]
    }
   ],
   "source": [
    "# CSV dosyasını yükleme\n",
    "df = pd.read_csv(\"Emotion_dataset_train.csv\")\n",
    "print(df)\n",
    "\n"
   ]
  },
  {
   "cell_type": "code",
   "execution_count": 3,
   "metadata": {},
   "outputs": [],
   "source": [
    "# Öznitelikler ve etiketleri ayırma\n",
    "X = df['Sentence']\n",
    "y = df['Label']"
   ]
  },
  {
   "cell_type": "code",
   "execution_count": 4,
   "metadata": {},
   "outputs": [
    {
     "name": "stdout",
     "output_type": "stream",
     "text": [
      "['kızgın' 'surpriz' 'mutlu' 'üzgün' 'korku']\n"
     ]
    }
   ],
   "source": [
    "unique_labels = df['Label'].unique()\n",
    "print(unique_labels)\n"
   ]
  },
  {
   "cell_type": "code",
   "execution_count": 5,
   "metadata": {},
   "outputs": [],
   "source": [
    "# Veri setini eğitim ve test setlerine ayırma\n",
    "X_egitim, X_test, y_egitim, y_test = train_test_split(X, y, test_size=0.2, random_state=42)\n",
    "\n"
   ]
  },
  {
   "cell_type": "code",
   "execution_count": 6,
   "metadata": {},
   "outputs": [],
   "source": [
    "# Metin verilerini sayısal vektörlere dönüştürme\n",
    "tfidf_vectorizer = TfidfVectorizer(max_features=1000)\n",
    "X_egitim_tfidf = tfidf_vectorizer.fit_transform(X_egitim)"
   ]
  },
  {
   "cell_type": "code",
   "execution_count": 7,
   "metadata": {},
   "outputs": [],
   "source": [
    "# Doğrulama veri setini dönüştürme ve indekslerini sıralama\n",
    "X_doğrulama = X_test\n",
    "X_doğrulama_tfidf = tfidf_vectorizer.transform(X_doğrulama)\n",
    "X_doğrulama_tfidf.sort_indices()"
   ]
  },
  {
   "cell_type": "code",
   "execution_count": 8,
   "metadata": {},
   "outputs": [],
   "source": [
    "# Etiketleri sayısal değerlere dönüştürme\n",
    "label_encoder = LabelEncoder()\n",
    "y_egitim_encoded = label_encoder.fit_transform(y_egitim)\n",
    "y_test_encoded = label_encoder.transform(y_test)"
   ]
  },
  {
   "cell_type": "code",
   "execution_count": 9,
   "metadata": {},
   "outputs": [],
   "source": [
    "# Sinir ağı modeli oluşturma\n",
    "model = Sequential()\n",
    "model.add(Dense(128, activation='relu', input_shape=(X_egitim_tfidf.shape[1],)))\n",
    "model.add(Dense(32, activation='relu'))\n",
    "model.add(Dense(64, activation='relu'))\n",
    "model.add(Dense(32, activation='sigmoid'))\n",
    "model.add(Dense(64, activation='sigmoid'))\n",
    "model.add(Dense(32, activation='relu'))\n",
    "model.add(Dense(len(label_encoder.classes_), activation='softmax'))\n"
   ]
  },
  {
   "cell_type": "code",
   "execution_count": 10,
   "metadata": {},
   "outputs": [],
   "source": [
    "# Modeli derleme\n",
    "model.compile(optimizer='adam', loss='sparse_categorical_crossentropy', metrics=['accuracy'])\n"
   ]
  },
  {
   "cell_type": "code",
   "execution_count": 11,
   "metadata": {},
   "outputs": [],
   "source": [
    "# Eğitim veri setini oluşturma\n",
    "X_egitim, X_test, y_egitim, y_test = train_test_split(X, y, test_size=0.2, random_state=42)\n"
   ]
  },
  {
   "cell_type": "code",
   "execution_count": 12,
   "metadata": {},
   "outputs": [],
   "source": [
    "# Eğitim ve doğrulama veri setlerini oluşturma\n",
    "X_egitim, X_doğrulama, y_egitim, y_doğrulama = train_test_split(X, y, test_size=0.1, random_state=42)\n"
   ]
  },
  {
   "cell_type": "code",
   "execution_count": 13,
   "metadata": {},
   "outputs": [],
   "source": [
    "# Metin verilerini sayısal vektörlere dönüştürme\n",
    "tfidf_vectorizer = TfidfVectorizer(max_features=1000)\n",
    "X_egitim_tfidf = tfidf_vectorizer.fit_transform(X_egitim)\n",
    "X_doğrulama_tfidf = tfidf_vectorizer.transform(X_doğrulama)"
   ]
  },
  {
   "cell_type": "code",
   "execution_count": 14,
   "metadata": {},
   "outputs": [],
   "source": [
    "# Seyrek matrislerin indekslerini sırala\n",
    "X_egitim_tfidf.sort_indices()\n",
    "X_doğrulama_tfidf.sort_indices()\n"
   ]
  },
  {
   "cell_type": "code",
   "execution_count": 15,
   "metadata": {},
   "outputs": [],
   "source": [
    "# Etiketleri sayısal değerlere dönüştürme\n",
    "label_encoder = LabelEncoder()\n",
    "y_egitim_encoded = label_encoder.fit_transform(y_egitim)\n",
    "y_doğrulama_encoded = label_encoder.transform(y_doğrulama)"
   ]
  },
  {
   "cell_type": "code",
   "execution_count": 16,
   "metadata": {},
   "outputs": [
    {
     "name": "stdout",
     "output_type": "stream",
     "text": [
      "Epoch 1/9\n",
      "55/55 [==============================] - 2s 7ms/step - loss: 1.6152 - accuracy: 0.1858 - val_loss: 1.5959 - val_accuracy: 0.3872\n",
      "Epoch 2/9\n",
      "55/55 [==============================] - 0s 3ms/step - loss: 1.4246 - accuracy: 0.4160 - val_loss: 1.1467 - val_accuracy: 0.4359\n",
      "Epoch 3/9\n",
      "55/55 [==============================] - 0s 3ms/step - loss: 0.9689 - accuracy: 0.6131 - val_loss: 0.8111 - val_accuracy: 0.7795\n",
      "Epoch 4/9\n",
      "55/55 [==============================] - 0s 4ms/step - loss: 0.6509 - accuracy: 0.8635 - val_loss: 0.5667 - val_accuracy: 0.9205\n",
      "Epoch 5/9\n",
      "55/55 [==============================] - 0s 3ms/step - loss: 0.3578 - accuracy: 0.9744 - val_loss: 0.3197 - val_accuracy: 0.9410\n",
      "Epoch 6/9\n",
      "55/55 [==============================] - 0s 3ms/step - loss: 0.1527 - accuracy: 0.9886 - val_loss: 0.2317 - val_accuracy: 0.9564\n",
      "Epoch 7/9\n",
      "55/55 [==============================] - 0s 3ms/step - loss: 0.0772 - accuracy: 0.9929 - val_loss: 0.2106 - val_accuracy: 0.9564\n",
      "Epoch 8/9\n",
      "55/55 [==============================] - 0s 3ms/step - loss: 0.0468 - accuracy: 0.9943 - val_loss: 0.2102 - val_accuracy: 0.9590\n",
      "Epoch 9/9\n",
      "55/55 [==============================] - 0s 4ms/step - loss: 0.0359 - accuracy: 0.9940 - val_loss: 0.2469 - val_accuracy: 0.9564\n"
     ]
    },
    {
     "data": {
      "text/plain": [
       "<keras.src.callbacks.History at 0x13a035b1610>"
      ]
     },
     "execution_count": 16,
     "metadata": {},
     "output_type": "execute_result"
    }
   ],
   "source": [
    "# Modeli eğitme\n",
    "model.fit(X_egitim_tfidf, y_egitim_encoded, epochs=9, batch_size=64, validation_data=(X_doğrulama_tfidf, y_doğrulama_encoded))\n"
   ]
  },
  {
   "cell_type": "code",
   "execution_count": 17,
   "metadata": {},
   "outputs": [],
   "source": [
    "# Test veri setini TF-IDF vektörlerine dönüştürme\n",
    "X_test_tfidf = tfidf_vectorizer.transform(X_test)"
   ]
  },
  {
   "cell_type": "code",
   "execution_count": 18,
   "metadata": {},
   "outputs": [],
   "source": [
    "# Seyrek matrisin indekslerini sırala\n",
    "X_test_tfidf.sort_indices()"
   ]
  },
  {
   "cell_type": "code",
   "execution_count": 19,
   "metadata": {},
   "outputs": [
    {
     "name": "stdout",
     "output_type": "stream",
     "text": [
      " 1/25 [>.............................] - ETA: 0s - loss: 0.2749 - accuracy: 0.9688"
     ]
    },
    {
     "name": "stdout",
     "output_type": "stream",
     "text": [
      "25/25 [==============================] - 0s 2ms/step - loss: 0.1310 - accuracy: 0.9782\n",
      "Modelin doğruluk skoru: 0.978205144405365\n"
     ]
    }
   ],
   "source": [
    "# Modelin performansını değerlendirme\n",
    "loss, accuracy = model.evaluate(X_test_tfidf, y_test_encoded)\n",
    "print(\"Modelin doğruluk skoru:\", accuracy)\n"
   ]
  },
  {
   "cell_type": "code",
   "execution_count": 20,
   "metadata": {},
   "outputs": [],
   "source": [
    "# Modeli kaydetme\n",
    "model.save(\"model.keras\")"
   ]
  },
  {
   "cell_type": "code",
   "execution_count": 21,
   "metadata": {},
   "outputs": [
    {
     "name": "stdout",
     "output_type": "stream",
     "text": [
      "25/25 [==============================] - 0s 1ms/step\n",
      "['surpriz' 'surpriz' 'korku' 'üzgün' 'surpriz' 'kızgın' 'kızgın' 'mutlu'\n",
      " 'üzgün' 'kızgın' 'mutlu' 'üzgün' 'kızgın' 'korku' 'kızgın' 'kızgın'\n",
      " 'kızgın' 'korku' 'mutlu' 'mutlu' 'korku' 'mutlu' 'surpriz' 'surpriz'\n",
      " 'surpriz' 'kızgın' 'üzgün' 'mutlu' 'üzgün' 'korku' 'korku' 'mutlu'\n",
      " 'mutlu' 'üzgün' 'üzgün' 'korku' 'korku' 'kızgın' 'surpriz' 'surpriz'\n",
      " 'korku' 'surpriz' 'üzgün' 'surpriz' 'mutlu' 'surpriz' 'mutlu' 'surpriz'\n",
      " 'surpriz' 'korku' 'korku' 'kızgın' 'kızgın' 'kızgın' 'mutlu' 'üzgün'\n",
      " 'kızgın' 'üzgün' 'üzgün' 'surpriz' 'korku' 'korku' 'kızgın' 'üzgün'\n",
      " 'kızgın' 'kızgın' 'mutlu' 'üzgün' 'korku' 'surpriz' 'korku' 'mutlu'\n",
      " 'mutlu' 'mutlu' 'üzgün' 'kızgın' 'surpriz' 'mutlu' 'kızgın' 'üzgün'\n",
      " 'üzgün' 'surpriz' 'korku' 'mutlu' 'surpriz' 'surpriz' 'korku' 'mutlu'\n",
      " 'korku' 'üzgün' 'kızgın' 'surpriz' 'kızgın' 'korku' 'üzgün' 'mutlu'\n",
      " 'korku' 'kızgın' 'mutlu' 'üzgün' 'üzgün' 'korku' 'korku' 'surpriz'\n",
      " 'kızgın' 'kızgın' 'üzgün' 'kızgın' 'surpriz' 'korku' 'surpriz' 'korku'\n",
      " 'üzgün' 'üzgün' 'kızgın' 'üzgün' 'surpriz' 'korku' 'üzgün' 'surpriz'\n",
      " 'korku' 'mutlu' 'mutlu' 'kızgın' 'üzgün' 'mutlu' 'surpriz' 'korku'\n",
      " 'kızgın' 'mutlu' 'kızgın' 'surpriz' 'kızgın' 'üzgün' 'korku' 'üzgün'\n",
      " 'korku' 'üzgün' 'mutlu' 'mutlu' 'korku' 'üzgün' 'mutlu' 'kızgın' 'korku'\n",
      " 'surpriz' 'mutlu' 'üzgün' 'mutlu' 'korku' 'kızgın' 'kızgın' 'kızgın'\n",
      " 'surpriz' 'surpriz' 'kızgın' 'korku' 'üzgün' 'mutlu' 'mutlu' 'surpriz'\n",
      " 'mutlu' 'üzgün' 'surpriz' 'surpriz' 'surpriz' 'kızgın' 'üzgün' 'surpriz'\n",
      " 'korku' 'kızgın' 'surpriz' 'surpriz' 'üzgün' 'surpriz' 'korku' 'üzgün'\n",
      " 'üzgün' 'korku' 'korku' 'üzgün' 'üzgün' 'surpriz' 'üzgün' 'surpriz'\n",
      " 'kızgın' 'korku' 'mutlu' 'mutlu' 'üzgün' 'surpriz' 'kızgın' 'kızgın'\n",
      " 'kızgın' 'kızgın' 'kızgın' 'surpriz' 'mutlu' 'kızgın' 'surpriz' 'korku'\n",
      " 'üzgün' 'mutlu' 'kızgın' 'korku' 'korku' 'kızgın' 'korku' 'korku'\n",
      " 'surpriz' 'kızgın' 'surpriz' 'surpriz' 'kızgın' 'üzgün' 'surpriz' 'üzgün'\n",
      " 'üzgün' 'kızgın' 'korku' 'mutlu' 'mutlu' 'mutlu' 'üzgün' 'mutlu'\n",
      " 'surpriz' 'mutlu' 'üzgün' 'mutlu' 'mutlu' 'surpriz' 'korku' 'üzgün'\n",
      " 'kızgın' 'üzgün' 'üzgün' 'surpriz' 'mutlu' 'korku' 'mutlu' 'korku'\n",
      " 'mutlu' 'üzgün' 'korku' 'surpriz' 'kızgın' 'surpriz' 'korku' 'mutlu'\n",
      " 'korku' 'surpriz' 'korku' 'kızgın' 'kızgın' 'korku' 'surpriz' 'mutlu'\n",
      " 'kızgın' 'mutlu' 'mutlu' 'surpriz' 'surpriz' 'üzgün' 'mutlu' 'kızgın'\n",
      " 'mutlu' 'korku' 'mutlu' 'kızgın' 'mutlu' 'üzgün' 'mutlu' 'üzgün' 'mutlu'\n",
      " 'üzgün' 'kızgın' 'üzgün' 'surpriz' 'üzgün' 'kızgın' 'mutlu' 'korku'\n",
      " 'kızgın' 'mutlu' 'kızgın' 'kızgın' 'üzgün' 'üzgün' 'üzgün' 'kızgın'\n",
      " 'kızgın' 'mutlu' 'üzgün' 'kızgın' 'surpriz' 'üzgün' 'kızgın' 'kızgın'\n",
      " 'korku' 'korku' 'mutlu' 'üzgün' 'üzgün' 'üzgün' 'mutlu' 'korku' 'mutlu'\n",
      " 'üzgün' 'korku' 'korku' 'üzgün' 'korku' 'surpriz' 'kızgın' 'surpriz'\n",
      " 'surpriz' 'surpriz' 'üzgün' 'surpriz' 'kızgın' 'üzgün' 'mutlu' 'kızgın'\n",
      " 'surpriz' 'üzgün' 'surpriz' 'kızgın' 'surpriz' 'kızgın' 'kızgın'\n",
      " 'surpriz' 'korku' 'üzgün' 'korku' 'mutlu' 'üzgün' 'kızgın' 'kızgın'\n",
      " 'mutlu' 'kızgın' 'korku' 'üzgün' 'korku' 'surpriz' 'korku' 'kızgın'\n",
      " 'surpriz' 'kızgın' 'üzgün' 'kızgın' 'surpriz' 'kızgın' 'surpriz' 'korku'\n",
      " 'mutlu' 'kızgın' 'üzgün' 'surpriz' 'korku' 'kızgın' 'surpriz' 'surpriz'\n",
      " 'korku' 'surpriz' 'surpriz' 'korku' 'surpriz' 'mutlu' 'korku' 'surpriz'\n",
      " 'korku' 'üzgün' 'üzgün' 'kızgın' 'üzgün' 'mutlu' 'korku' 'surpriz'\n",
      " 'üzgün' 'korku' 'kızgın' 'kızgın' 'üzgün' 'kızgın' 'kızgın' 'üzgün'\n",
      " 'üzgün' 'kızgın' 'surpriz' 'korku' 'surpriz' 'üzgün' 'mutlu' 'korku'\n",
      " 'üzgün' 'mutlu' 'korku' 'üzgün' 'surpriz' 'kızgın' 'korku' 'üzgün'\n",
      " 'surpriz' 'üzgün' 'mutlu' 'kızgın' 'surpriz' 'üzgün' 'mutlu' 'kızgın'\n",
      " 'mutlu' 'kızgın' 'mutlu' 'kızgın' 'üzgün' 'korku' 'surpriz' 'mutlu'\n",
      " 'kızgın' 'kızgın' 'üzgün' 'üzgün' 'surpriz' 'korku' 'korku' 'mutlu'\n",
      " 'surpriz' 'surpriz' 'surpriz' 'mutlu' 'korku' 'korku' 'kızgın' 'kızgın'\n",
      " 'kızgın' 'mutlu' 'mutlu' 'mutlu' 'surpriz' 'üzgün' 'korku' 'üzgün'\n",
      " 'üzgün' 'kızgın' 'korku' 'üzgün' 'mutlu' 'korku' 'kızgın' 'kızgın'\n",
      " 'korku' 'kızgın' 'mutlu' 'kızgın' 'kızgın' 'surpriz' 'mutlu' 'surpriz'\n",
      " 'kızgın' 'surpriz' 'kızgın' 'kızgın' 'korku' 'üzgün' 'surpriz' 'mutlu'\n",
      " 'surpriz' 'kızgın' 'üzgün' 'üzgün' 'surpriz' 'korku' 'kızgın' 'surpriz'\n",
      " 'surpriz' 'üzgün' 'mutlu' 'surpriz' 'surpriz' 'mutlu' 'mutlu' 'surpriz'\n",
      " 'surpriz' 'kızgın' 'üzgün' 'surpriz' 'kızgın' 'kızgın' 'surpriz' 'mutlu'\n",
      " 'kızgın' 'korku' 'mutlu' 'surpriz' 'üzgün' 'korku' 'üzgün' 'kızgın'\n",
      " 'kızgın' 'surpriz' 'kızgın' 'korku' 'kızgın' 'mutlu' 'korku' 'surpriz'\n",
      " 'üzgün' 'üzgün' 'kızgın' 'üzgün' 'mutlu' 'mutlu' 'surpriz' 'surpriz'\n",
      " 'üzgün' 'mutlu' 'korku' 'üzgün' 'surpriz' 'kızgın' 'korku' 'surpriz'\n",
      " 'surpriz' 'surpriz' 'korku' 'üzgün' 'üzgün' 'surpriz' 'kızgın' 'kızgın'\n",
      " 'surpriz' 'surpriz' 'korku' 'kızgın' 'surpriz' 'surpriz' 'kızgın'\n",
      " 'surpriz' 'üzgün' 'korku' 'üzgün' 'mutlu' 'üzgün' 'mutlu' 'mutlu'\n",
      " 'surpriz' 'üzgün' 'mutlu' 'üzgün' 'mutlu' 'mutlu' 'üzgün' 'mutlu'\n",
      " 'kızgın' 'surpriz' 'üzgün' 'korku' 'korku' 'mutlu' 'üzgün' 'surpriz'\n",
      " 'üzgün' 'surpriz' 'mutlu' 'mutlu' 'mutlu' 'korku' 'üzgün' 'üzgün' 'korku'\n",
      " 'mutlu' 'surpriz' 'üzgün' 'kızgın' 'korku' 'kızgın' 'surpriz' 'mutlu'\n",
      " 'korku' 'korku' 'mutlu' 'mutlu' 'mutlu' 'surpriz' 'korku' 'kızgın'\n",
      " 'korku' 'surpriz' 'mutlu' 'korku' 'surpriz' 'surpriz' 'üzgün' 'surpriz'\n",
      " 'korku' 'korku' 'üzgün' 'kızgın' 'korku' 'korku' 'mutlu' 'üzgün'\n",
      " 'surpriz' 'kızgın' 'mutlu' 'surpriz' 'korku' 'mutlu' 'surpriz' 'korku'\n",
      " 'üzgün' 'surpriz' 'surpriz' 'mutlu' 'mutlu' 'surpriz' 'üzgün' 'korku'\n",
      " 'üzgün' 'üzgün' 'korku' 'kızgın' 'mutlu' 'korku' 'üzgün' 'korku' 'üzgün'\n",
      " 'surpriz' 'mutlu' 'korku' 'surpriz' 'surpriz' 'surpriz' 'surpriz' 'korku'\n",
      " 'kızgın' 'korku' 'üzgün' 'üzgün' 'mutlu' 'üzgün' 'kızgın' 'kızgın'\n",
      " 'kızgın' 'üzgün' 'mutlu' 'mutlu' 'surpriz' 'mutlu' 'korku' 'korku'\n",
      " 'mutlu' 'surpriz' 'kızgın' 'kızgın' 'üzgün' 'surpriz' 'korku' 'kızgın'\n",
      " 'mutlu' 'kızgın' 'üzgün' 'kızgın' 'kızgın' 'kızgın' 'surpriz' 'üzgün'\n",
      " 'üzgün' 'surpriz' 'surpriz' 'üzgün' 'kızgın' 'korku' 'surpriz' 'korku'\n",
      " 'üzgün' 'surpriz' 'surpriz' 'üzgün' 'korku' 'korku' 'surpriz' 'kızgın'\n",
      " 'mutlu' 'üzgün' 'surpriz' 'surpriz' 'korku' 'mutlu' 'üzgün' 'surpriz'\n",
      " 'mutlu' 'kızgın' 'mutlu' 'üzgün' 'korku' 'surpriz' 'korku' 'surpriz'\n",
      " 'korku' 'kızgın' 'mutlu' 'korku' 'üzgün' 'korku' 'mutlu' 'mutlu'\n",
      " 'surpriz' 'üzgün' 'kızgın' 'mutlu' 'korku' 'kızgın' 'korku' 'korku'\n",
      " 'kızgın' 'surpriz' 'kızgın' 'üzgün' 'korku' 'surpriz' 'kızgın' 'mutlu'\n",
      " 'korku' 'mutlu' 'üzgün' 'kızgın' 'kızgın' 'surpriz' 'üzgün' 'korku'\n",
      " 'üzgün' 'korku' 'üzgün' 'mutlu' 'korku' 'mutlu' 'kızgın' 'kızgın'\n",
      " 'kızgın' 'korku' 'üzgün' 'üzgün' 'üzgün' 'üzgün' 'üzgün' 'kızgın' 'mutlu'\n",
      " 'kızgın' 'mutlu' 'üzgün' 'mutlu' 'üzgün' 'üzgün' 'üzgün' 'üzgün' 'korku'\n",
      " 'üzgün' 'korku' 'korku' 'korku' 'surpriz' 'surpriz' 'mutlu' 'üzgün'\n",
      " 'surpriz' 'kızgın' 'kızgın' 'kızgın' 'korku' 'üzgün' 'üzgün' 'mutlu'\n",
      " 'kızgın' 'mutlu' 'kızgın' 'üzgün' 'kızgın' 'mutlu' 'surpriz']\n",
      "839     surpriz\n",
      "1717    surpriz\n",
      "321       korku\n",
      "3187      üzgün\n",
      "2269    surpriz\n",
      "         ...   \n",
      "1393     kızgın\n",
      "3751      üzgün\n",
      "2696     kızgın\n",
      "2384      mutlu\n",
      "805     surpriz\n",
      "Name: Label, Length: 780, dtype: object\n",
      "0.9782051282051282\n"
     ]
    }
   ],
   "source": [
    "# model uzerinde tahmin yapma\n",
    "y_tahmin = model.predict(X_test_tfidf)\n",
    "y_tahmin = y_tahmin.argmax(axis=-1)\n",
    "y_tahmin = label_encoder.inverse_transform(y_tahmin)\n",
    "print(y_tahmin)\n",
    "print(y_test)\n",
    "print(accuracy_score(y_test, y_tahmin))\n"
   ]
  },
  {
   "cell_type": "code",
   "execution_count": 22,
   "metadata": {},
   "outputs": [
    {
     "name": "stdout",
     "output_type": "stream",
     "text": [
      "1/1 [==============================] - 0s 11ms/step\n"
     ]
    },
    {
     "name": "stdout",
     "output_type": "stream",
     "text": [
      "['surpriz']\n"
     ]
    }
   ],
   "source": [
    "#verecegim cumlenin duygusunu tahmin edelim. \n",
    "cumle = \"cüzdanımı unuttuğum için eve yürüyerek dönmek zorunda kaldım \"\n",
    "cumle_tfidf = tfidf_vectorizer.transform([cumle])\n",
    "cumle_tfidf.sort_indices()\n",
    "tahmin = model.predict(cumle_tfidf)\n",
    "tahmin = tahmin.argmax(axis=-1)\n",
    "tahmin = label_encoder.inverse_transform(tahmin)\n",
    "print(tahmin)\n"
   ]
  },
  {
   "cell_type": "code",
   "execution_count": 23,
   "metadata": {},
   "outputs": [
    {
     "data": {
      "text/plain": [
       "['label_encoder.pkl']"
      ]
     },
     "execution_count": 23,
     "metadata": {},
     "output_type": "execute_result"
    }
   ],
   "source": [
    "import joblib\n",
    "\n",
    "# TF-IDF vektörleştiriciyi kaydet\n",
    "joblib.dump(tfidf_vectorizer, \"tfidf_vectorizer.pkl\")\n",
    "\n",
    "# Etiket kodlayıcıyı kaydet\n",
    "joblib.dump(label_encoder, \"label_encoder.pkl\")\n"
   ]
  }
 ],
 "metadata": {
  "kernelspec": {
   "display_name": "Python (mykernel)",
   "language": "python",
   "name": "mykernel"
  },
  "language_info": {
   "codemirror_mode": {
    "name": "ipython",
    "version": 3
   },
   "file_extension": ".py",
   "mimetype": "text/x-python",
   "name": "python",
   "nbconvert_exporter": "python",
   "pygments_lexer": "ipython3",
   "version": "3.8.0"
  }
 },
 "nbformat": 4,
 "nbformat_minor": 2
}
